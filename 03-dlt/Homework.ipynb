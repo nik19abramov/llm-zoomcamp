{
 "cells": [
  {
   "cell_type": "markdown",
   "id": "33ffbe29-02aa-4e48-ba3a-2bfc419e5223",
   "metadata": {},
   "source": [
    "# Question 1. dlt Version"
   ]
  },
  {
   "cell_type": "code",
   "execution_count": 1,
   "id": "53a943b0-61a0-4e8a-8463-1bd6f9f237ae",
   "metadata": {},
   "outputs": [],
   "source": [
    "!pip install -q \"dlt[qdrant]\" \"qdrant-client[fastembed]\""
   ]
  },
  {
   "cell_type": "code",
   "execution_count": 6,
   "id": "5cebceee-7dbf-4929-aebd-bb7b2edd1b72",
   "metadata": {},
   "outputs": [
    {
     "name": "stdout",
     "output_type": "stream",
     "text": [
      "\u001b[39mdlt 1.12.3\u001b[0m\n"
     ]
    }
   ],
   "source": [
    "!dlt --version"
   ]
  },
  {
   "cell_type": "markdown",
   "id": "6e1dcab1-92fb-44c6-84e0-33f8abb0b6ff",
   "metadata": {},
   "source": [
    "## dlt Resourse"
   ]
  },
  {
   "cell_type": "code",
   "execution_count": 2,
   "id": "912491e9-5ce7-4cf2-92e5-eeb5e0f4cfa6",
   "metadata": {},
   "outputs": [],
   "source": [
    "import dlt\n",
    "import requests\n",
    "import pandas as pd\n",
    "from datetime import datetime"
   ]
  },
  {
   "cell_type": "code",
   "execution_count": 9,
   "id": "b88286d7-480a-41ee-8eb6-27bd09087d0e",
   "metadata": {},
   "outputs": [],
   "source": [
    "@dlt.resource(write_disposition=\"replace\", name=\"zoomcamp_data\")\n",
    "def zoomcamp_data():\n",
    "    docs_url = 'https://github.com/alexeygrigorev/llm-rag-workshop/raw/main/notebooks/documents.json'\n",
    "    docs_response = requests.get(docs_url)\n",
    "    documents_raw = docs_response.json()\n",
    "\n",
    "    for course in documents_raw:\n",
    "        course_name = course['course']\n",
    "\n",
    "        for doc in course['documents']:\n",
    "            doc['course'] = course_name\n",
    "            yield doc"
   ]
  },
  {
   "cell_type": "markdown",
   "id": "c462bbbe-c31b-48e3-911a-375d88953f04",
   "metadata": {},
   "source": [
    "# Question 2. dlt pipeline"
   ]
  },
  {
   "cell_type": "code",
   "execution_count": 10,
   "id": "96b251b9-5172-4a60-a67a-62412c5e0e6a",
   "metadata": {},
   "outputs": [],
   "source": [
    "from dlt.destinations import qdrant\n",
    "\n",
    "qdrant_destination = qdrant(\n",
    "  qd_path=\"db.qdrant\", \n",
    ")"
   ]
  },
  {
   "cell_type": "code",
   "execution_count": 12,
   "id": "be9f5b75-c8c9-43c3-bb39-493514bbbca3",
   "metadata": {},
   "outputs": [
    {
     "name": "stderr",
     "output_type": "stream",
     "text": [
      "/usr/local/python/3.12.1/lib/python3.12/site-packages/tqdm/auto.py:21: TqdmWarning: IProgress not found. Please update jupyter and ipywidgets. See https://ipywidgets.readthedocs.io/en/stable/user_install.html\n",
      "  from .autonotebook import tqdm as notebook_tqdm\n",
      "Fetching 5 files: 100%|██████████████████████████████████████████████████████████████████████████████████████████████████████████████████| 5/5 [00:00<00:00, 10.70it/s]\n"
     ]
    },
    {
     "name": "stdout",
     "output_type": "stream",
     "text": [
      "Run started at 2025-07-05 15:17:54.845522+00:00 and COMPLETED in 7.01 seconds with 4 steps.\n",
      "Step extract COMPLETED in 0.48 seconds.\n",
      "\n",
      "Load package 1751728677.2411158 is EXTRACTED and NOT YET LOADED to the destination and contains no failed jobs\n",
      "\n",
      "Step normalize COMPLETED in 0.09 seconds.\n",
      "Normalized data for the following tables:\n",
      "- zoomcamp_data: 948 row(s)\n",
      "- _dlt_pipeline_state: 1 row(s)\n",
      "\n",
      "Load package 1751728677.2411158 is NORMALIZED and NOT YET LOADED to the destination and contains no failed jobs\n",
      "\n",
      "Step load COMPLETED in 4.05 seconds.\n",
      "Pipeline zoomcamp_pipeline load step completed in 4.04 seconds\n",
      "1 load package(s) were loaded to destination qdrant and into dataset zoomcamp_tagged_data\n",
      "The qdrant destination used /workspaces/llm-zoomcamp/03-dlt/db.qdrant location to store data\n",
      "Load package 1751728677.2411158 is LOADED and contains no failed jobs\n",
      "\n",
      "Step run COMPLETED in 7.01 seconds.\n",
      "Pipeline zoomcamp_pipeline load step completed in 4.04 seconds\n",
      "1 load package(s) were loaded to destination qdrant and into dataset zoomcamp_tagged_data\n",
      "The qdrant destination used /workspaces/llm-zoomcamp/03-dlt/db.qdrant location to store data\n",
      "Load package 1751728677.2411158 is LOADED and contains no failed jobs\n"
     ]
    }
   ],
   "source": [
    "pipeline = dlt.pipeline(\n",
    "    pipeline_name=\"zoomcamp_pipeline\",\n",
    "    destination=qdrant_destination,\n",
    "    dataset_name=\"zoomcamp_tagged_data\"\n",
    "\n",
    ")\n",
    "load_info = pipeline.run(zoomcamp_data())\n",
    "print(pipeline.last_trace)"
   ]
  },
  {
   "cell_type": "markdown",
   "id": "a05f1e71-1476-4cef-b404-95f1c7945201",
   "metadata": {},
   "source": [
    "**How many rows were inserted into the zoomcamp_data collection?** 948 row(s)"
   ]
  },
  {
   "cell_type": "markdown",
   "id": "ebce9a93-c276-4eca-8440-95727b2c2c66",
   "metadata": {},
   "source": [
    "# Question 3. Embeddings"
   ]
  },
  {
   "cell_type": "code",
   "execution_count": null,
   "id": "0dfd09dc-4fad-4438-902c-3bc1af588fa8",
   "metadata": {},
   "outputs": [],
   "source": []
  }
 ],
 "metadata": {
  "kernelspec": {
   "display_name": "Python 3 (ipykernel)",
   "language": "python",
   "name": "python3"
  },
  "language_info": {
   "codemirror_mode": {
    "name": "ipython",
    "version": 3
   },
   "file_extension": ".py",
   "mimetype": "text/x-python",
   "name": "python",
   "nbconvert_exporter": "python",
   "pygments_lexer": "ipython3",
   "version": "3.12.1"
  }
 },
 "nbformat": 4,
 "nbformat_minor": 5
}
