{
 "cells": [
  {
   "cell_type": "code",
   "execution_count": 1,
   "id": "f45c332f-d4bb-459b-9942-aee5e5067a56",
   "metadata": {},
   "outputs": [
    {
     "name": "stdout",
     "output_type": "stream",
     "text": [
      "--2025-06-07 11:34:36--  https://raw.githubusercontent.com/alexeygrigorev/minsearch/refs/heads/main/minsearch.py\n",
      "Resolving raw.githubusercontent.com (raw.githubusercontent.com)... 185.199.108.133, 185.199.109.133, 185.199.110.133, ...\n",
      "Connecting to raw.githubusercontent.com (raw.githubusercontent.com)|185.199.108.133|:443... connected.\n",
      "HTTP request sent, awaiting response... 200 OK\n",
      "Length: 3832 (3.7K) [text/plain]\n",
      "Saving to: ‘minsearch.py’\n",
      "\n",
      "minsearch.py        100%[===================>]   3.74K  --.-KB/s    in 0s      \n",
      "\n",
      "2025-06-07 11:34:36 (43.4 MB/s) - ‘minsearch.py’ saved [3832/3832]\n",
      "\n"
     ]
    }
   ],
   "source": [
    "!wget https://raw.githubusercontent.com/alexeygrigorev/minsearch/refs/heads/main/minsearch.py"
   ]
  },
  {
   "cell_type": "code",
   "execution_count": 3,
   "id": "81151e70-9735-4ffb-9612-172875944a5b",
   "metadata": {},
   "outputs": [],
   "source": [
    "import minsearch"
   ]
  },
  {
   "cell_type": "code",
   "execution_count": 4,
   "id": "6a651baa-794c-40d1-a6ec-f55b2cef87e9",
   "metadata": {},
   "outputs": [],
   "source": [
    "import json"
   ]
  },
  {
   "cell_type": "code",
   "execution_count": 4,
   "id": "cdeabc68-1799-4195-aae6-c780aa75a109",
   "metadata": {},
   "outputs": [
    {
     "name": "stdout",
     "output_type": "stream",
     "text": [
      "--2025-06-07 11:36:38--  https://raw.githubusercontent.com/DataTalksClub/llm-zoomcamp/refs/heads/main/01-intro/documents.json\n",
      "Resolving raw.githubusercontent.com (raw.githubusercontent.com)... 185.199.108.133, 185.199.111.133, 185.199.109.133, ...\n",
      "Connecting to raw.githubusercontent.com (raw.githubusercontent.com)|185.199.108.133|:443... connected.\n",
      "HTTP request sent, awaiting response... 200 OK\n",
      "Length: 658332 (643K) [text/plain]\n",
      "Saving to: ‘documents.json’\n",
      "\n",
      "documents.json      100%[===================>] 642.90K  --.-KB/s    in 0.008s  \n",
      "\n",
      "2025-06-07 11:36:38 (79.9 MB/s) - ‘documents.json’ saved [658332/658332]\n",
      "\n"
     ]
    }
   ],
   "source": [
    "!wget https://raw.githubusercontent.com/DataTalksClub/llm-zoomcamp/refs/heads/main/01-intro/documents.json"
   ]
  },
  {
   "cell_type": "code",
   "execution_count": 5,
   "id": "b9249fbf-5572-4b67-be60-6f85794e92e1",
   "metadata": {},
   "outputs": [],
   "source": [
    "with open('documents.json', 'rt') as f_in:\n",
    "    docs_raw = json.load(f_in)"
   ]
  },
  {
   "cell_type": "code",
   "execution_count": 6,
   "id": "a2eb2318-b600-4063-874a-dacc85f423fe",
   "metadata": {},
   "outputs": [],
   "source": [
    "documents = []\n",
    "\n",
    "for course_dict in docs_raw:\n",
    "    for doc in course_dict['documents']:\n",
    "        doc['course'] = course_dict['course']\n",
    "        documents.append(doc)"
   ]
  },
  {
   "cell_type": "code",
   "execution_count": 7,
   "id": "3526b499-d73b-452b-85b2-fe63bfca4e70",
   "metadata": {},
   "outputs": [
    {
     "data": {
      "text/plain": [
       "{'text': \"The purpose of this document is to capture frequently asked technical questions\\nThe exact day and hour of the course will be 15th Jan 2024 at 17h00. The course will start with the first  “Office Hours'' live.1\\nSubscribe to course public Google Calendar (it works from Desktop only).\\nRegister before the course starts using this link.\\nJoin the course Telegram channel with announcements.\\nDon’t forget to register in DataTalks.Club's Slack and join the channel.\",\n",
       " 'section': 'General course-related questions',\n",
       " 'question': 'Course - When will the course start?',\n",
       " 'course': 'data-engineering-zoomcamp'}"
      ]
     },
     "execution_count": 7,
     "metadata": {},
     "output_type": "execute_result"
    }
   ],
   "source": [
    "documents[0]\n"
   ]
  },
  {
   "cell_type": "code",
   "execution_count": 8,
   "id": "fd0931cb-e954-40b2-a6cb-83a4c3711743",
   "metadata": {},
   "outputs": [],
   "source": [
    "index = minsearch.Index(\n",
    "    text_fields=[\"question\", \"text\", \"section\"],\n",
    "    keyword_fields=[\"course\"]\n",
    ")"
   ]
  },
  {
   "cell_type": "code",
   "execution_count": 9,
   "id": "b8689673-3833-443b-ac61-8d1d144e10c3",
   "metadata": {},
   "outputs": [
    {
     "data": {
      "text/plain": [
       "<minsearch.Index at 0x7c5823e4da30>"
      ]
     },
     "execution_count": 9,
     "metadata": {},
     "output_type": "execute_result"
    }
   ],
   "source": [
    "index.fit(documents)"
   ]
  },
  {
   "cell_type": "code",
   "execution_count": 1,
   "id": "35973a44-ec61-4e16-ac7c-05c649818169",
   "metadata": {},
   "outputs": [],
   "source": [
    "import openai\n",
    "from openai import OpenAI"
   ]
  },
  {
   "cell_type": "code",
   "execution_count": 2,
   "id": "0afda463-8ef2-4062-89a8-07548404593a",
   "metadata": {},
   "outputs": [],
   "source": [
    "client = OpenAI()"
   ]
  },
  {
   "cell_type": "code",
   "execution_count": 11,
   "id": "fc77ff7b-8569-4f8c-9219-fa5561372ff3",
   "metadata": {},
   "outputs": [],
   "source": [
    "q = 'the course has already started, can I still enroll?'"
   ]
  },
  {
   "cell_type": "code",
   "execution_count": 12,
   "id": "c26d0376-e923-4c4e-b5cb-df6c1bcec945",
   "metadata": {},
   "outputs": [
    {
     "data": {
      "text/plain": [
       "\"It depends on the specific course and institution's policies. Some courses allow late enrollment within a certain time frame, often with a penalty or additional requirements. It's best to contact the course administrator or check the institution's website for details on their enrollment policies and any deadlines.\""
      ]
     },
     "execution_count": 12,
     "metadata": {},
     "output_type": "execute_result"
    }
   ],
   "source": [
    "response = client.chat.completions.create(\n",
    "    model='gpt-4o',\n",
    "    messages=[{\"role\": \"user\", \"content\": q}]\n",
    ")\n",
    "\n",
    "response.choices[0].message.content"
   ]
  },
  {
   "cell_type": "code",
   "execution_count": 10,
   "id": "e3a1c360-ff30-48ea-9c5e-6c4f1f08b64e",
   "metadata": {},
   "outputs": [],
   "source": [
    "def search(query):\n",
    "    boost = {'question': 3.0, 'section': 0.5}\n",
    "\n",
    "    results = index.search(\n",
    "        query=query,\n",
    "        filter_dict={'course': 'data-engineering-zoomcamp'},\n",
    "        boost_dict=boost,\n",
    "        num_results=5\n",
    "    )\n",
    "\n",
    "    return results"
   ]
  },
  {
   "cell_type": "code",
   "execution_count": 13,
   "id": "795cd3ef-fbc6-4eed-b36a-10dcef961aee",
   "metadata": {},
   "outputs": [],
   "source": [
    "def build_prompt(query, search_results):\n",
    "    prompt_template = \"\"\"\n",
    "    You're a course teaching assistant. Answer the QUESTION based on the CONTEXT from the FAQ database.\n",
    "    Use only the facts from the CONTEXT when answering the QUESTION.\n",
    "    \n",
    "    QUESTION: {question}\n",
    "    \n",
    "    CONTEXT: \n",
    "    {context}\n",
    "    \"\"\".strip()\n",
    "\n",
    "    context = \"\"\n",
    "    \n",
    "    for doc in search_results:\n",
    "        context = context + f\"section: {doc['section']}\\nquestion: {doc['question']}\\nanswer: {doc['text']}\\n\\n\"\n",
    "    \n",
    "    prompt = prompt_template.format(question=query, context=context).strip()\n",
    "    return prompt"
   ]
  },
  {
   "cell_type": "code",
   "execution_count": 18,
   "id": "cafae18b-fdab-4c62-9d7f-cd28097a81ff",
   "metadata": {},
   "outputs": [],
   "source": [
    "def llm(prompt):\n",
    "    response = client.chat.completions.create(\n",
    "    model='gpt-4o',\n",
    "    messages=[{\"role\": \"user\", \"content\": q}]\n",
    "    )\n",
    "\n",
    "    return response.choices[0].message.content"
   ]
  },
  {
   "cell_type": "code",
   "execution_count": 36,
   "id": "d8144c0b-2f04-4e4d-9fb6-c0899da6adce",
   "metadata": {},
   "outputs": [],
   "source": [
    "query = 'how do I run kafka?'\n",
    "\n",
    "def rag(query):\n",
    "    search_results = search(query)\n",
    "    prompt = build_prompt(query, search_results)\n",
    "    answer = llm(prompt)\n",
    "    return answer"
   ]
  },
  {
   "cell_type": "code",
   "execution_count": 21,
   "id": "38743e3d-ce49-44eb-aea6-3afdad2b422d",
   "metadata": {},
   "outputs": [
    {
     "name": "stdout",
     "output_type": "stream",
     "text": [
      "Running Apache Kafka involves several steps, including setting up Zookeeper (since Kafka depends on it for its operations) and starting the Kafka server. Here's a step-by-step guide to get you started:\n",
      "\n",
      "### Pre-requisites\n",
      "- Ensure you have Java installed on your machine, preferably version 8 or later.\n",
      "- Download Apache Kafka from the [official website](https://kafka.apache.org/downloads).\n",
      "\n",
      "### Steps to Run Kafka\n",
      "\n",
      "1. **Extract Kafka:**\n",
      "   - Once downloaded, extract the Kafka binary files to a directory on your system.\n",
      "\n",
      "2. **Start Zookeeper:**\n",
      "   - Kafka requires Zookeeper to manage distributed brokers. Kafka binary includes a Zookeeper instance for you to use.\n",
      "   - Open a terminal window, navigate to the Kafka directory, and run the following command:\n",
      "\n",
      "     ```bash\n",
      "     bin/zookeeper-server-start.sh config/zookeeper.properties\n",
      "     ```\n",
      "\n",
      "   - This starts a Zookeeper instance with the default configuration.\n",
      "\n",
      "3. **Start Kafka Broker:**\n",
      "   - Open another terminal window, navigate to the Kafka directory, and run:\n",
      "\n",
      "     ```bash\n",
      "     bin/kafka-server-start.sh config/server.properties\n",
      "     ```\n",
      "\n",
      "   - This starts the Kafka broker with the default configuration.\n",
      "\n",
      "4. **Create a Topic:**\n",
      "   - Open another terminal and run the following command to create a new topic named `test`:\n",
      "\n",
      "     ```bash\n",
      "     bin/kafka-topics.sh --create --topic test --bootstrap-server localhost:9092 --partitions 1 --replication-factor 1\n",
      "     ```\n",
      "\n",
      "5. **List Topics:**\n",
      "   - To see the list of topics, run:\n",
      "\n",
      "     ```bash\n",
      "     bin/kafka-topics.sh --list --bootstrap-server localhost:9092\n",
      "     ```\n",
      "\n",
      "6. **Start a Producer:**\n",
      "   - Run the following command to start a console producer:\n",
      "\n",
      "     ```bash\n",
      "     bin/kafka-console-producer.sh --topic test --bootstrap-server localhost:9092\n",
      "     ```\n",
      "\n",
      "   - You can now type messages into the console, and they will be sent to the Kafka `test` topic.\n",
      "\n",
      "7. **Start a Consumer:**\n",
      "   - Open another terminal window and start a console consumer by running:\n",
      "\n",
      "     ```bash\n",
      "     bin/kafka-console-consumer.sh --topic test --from-beginning --bootstrap-server localhost:9092\n",
      "     ```\n",
      "\n",
      "   - You will see the messages you type in the producer console appear in the consumer console.\n",
      "\n",
      "### Stopping Kafka and Zookeeper\n",
      "\n",
      "- To stop the Kafka broker, go to the terminal where Kafka is running and press `Ctrl+C`.\n",
      "- Similarly, stop Zookeeper by going to the terminal where Zookeeper is running and pressing `Ctrl+C`.\n",
      "\n",
      "### Notes\n",
      "- The above steps are for getting started with Kafka in a local environment. In a production environment, you would typically set up multiple Kafka brokers and Zookeeper instances.\n",
      "- Configuration files (`server.properties`, `zookeeper.properties`) can be edited to customize the setup (e.g., change ports, broker IDs, log directories).\n",
      "\n",
      "This should set up a basic Kafka instance for you to experiment with. Let me know if you have any more questions!\n"
     ]
    }
   ],
   "source": [
    "print(answer)"
   ]
  },
  {
   "cell_type": "code",
   "execution_count": 25,
   "id": "b56ee4e9-2c6a-43d9-81d0-52418a60b6bc",
   "metadata": {},
   "outputs": [],
   "source": [
    "from elasticsearch import Elasticsearch\n"
   ]
  },
  {
   "cell_type": "code",
   "execution_count": 26,
   "id": "c3faedc4-c3f9-43a5-bf67-248ac25cb5d8",
   "metadata": {},
   "outputs": [],
   "source": [
    "es_client = Elasticsearch('http://localhost:9200')"
   ]
  },
  {
   "cell_type": "code",
   "execution_count": 27,
   "id": "35d7e4e5-9ca0-4a94-b0b1-ca7e10f36a5e",
   "metadata": {},
   "outputs": [
    {
     "data": {
      "text/plain": [
       "ObjectApiResponse({'name': '7157e1ea22b5', 'cluster_name': 'docker-cluster', 'cluster_uuid': 'IZEgnO0rQaKvDu0-lVt4lA', 'version': {'number': '8.4.3', 'build_flavor': 'default', 'build_type': 'docker', 'build_hash': '42f05b9372a9a4a470db3b52817899b99a76ee73', 'build_date': '2022-10-04T07:17:24.662462378Z', 'build_snapshot': False, 'lucene_version': '9.3.0', 'minimum_wire_compatibility_version': '7.17.0', 'minimum_index_compatibility_version': '7.0.0'}, 'tagline': 'You Know, for Search'})"
      ]
     },
     "execution_count": 27,
     "metadata": {},
     "output_type": "execute_result"
    }
   ],
   "source": [
    "es_client.info()"
   ]
  },
  {
   "cell_type": "code",
   "execution_count": 29,
   "id": "39d28058-37df-427d-b7f6-04b2a9ec659b",
   "metadata": {},
   "outputs": [
    {
     "data": {
      "text/plain": [
       "ObjectApiResponse({'acknowledged': True, 'shards_acknowledged': True, 'index': 'course-questions'})"
      ]
     },
     "execution_count": 29,
     "metadata": {},
     "output_type": "execute_result"
    }
   ],
   "source": [
    "index_settings  = {\n",
    "    \"settings\": {\n",
    "        \"number_of_shards\": 1,\n",
    "        \"number_of_replicas\": 0\n",
    "    },\n",
    "    \"mappings\": {\n",
    "        \"properties\": {\n",
    "            \"text\": {\"type\": \"text\"},\n",
    "            \"section\": {\"type\": \"text\"},\n",
    "            \"question\": {\"type\": \"text\"},\n",
    "            \"course\": {\"type\": \"keyword\"} \n",
    "        }\n",
    "    }\n",
    "}\n",
    "\n",
    "index_name = \"course-questions\"\n",
    "es_client.indices.create(index = index_name, body = index_settings)"
   ]
  },
  {
   "cell_type": "code",
   "execution_count": 30,
   "id": "ca58ed7f-d803-4ef8-b482-65dfead2774c",
   "metadata": {},
   "outputs": [
    {
     "data": {
      "text/plain": [
       "{'text': \"The purpose of this document is to capture frequently asked technical questions\\nThe exact day and hour of the course will be 15th Jan 2024 at 17h00. The course will start with the first  “Office Hours'' live.1\\nSubscribe to course public Google Calendar (it works from Desktop only).\\nRegister before the course starts using this link.\\nJoin the course Telegram channel with announcements.\\nDon’t forget to register in DataTalks.Club's Slack and join the channel.\",\n",
       " 'section': 'General course-related questions',\n",
       " 'question': 'Course - When will the course start?',\n",
       " 'course': 'data-engineering-zoomcamp'}"
      ]
     },
     "execution_count": 30,
     "metadata": {},
     "output_type": "execute_result"
    }
   ],
   "source": [
    "documents[0]"
   ]
  },
  {
   "cell_type": "code",
   "execution_count": 31,
   "id": "671ba2ab-0e0b-405d-8bb7-062529d7ea65",
   "metadata": {},
   "outputs": [],
   "source": [
    "from tqdm.auto import tqdm"
   ]
  },
  {
   "cell_type": "code",
   "execution_count": 34,
   "id": "6d1edf89-8bbe-4872-bb10-73b5c48f413a",
   "metadata": {},
   "outputs": [
    {
     "data": {
      "application/vnd.jupyter.widget-view+json": {
       "model_id": "b04f26493034442b84a7a2738600e8a2",
       "version_major": 2,
       "version_minor": 0
      },
      "text/plain": [
       "  0%|          | 0/948 [00:00<?, ?it/s]"
      ]
     },
     "metadata": {},
     "output_type": "display_data"
    }
   ],
   "source": [
    "for doc in tqdm(documents):\n",
    "    es_client.index(index = index_name, document = doc)"
   ]
  },
  {
   "cell_type": "code",
   "execution_count": 38,
   "id": "bf50bb15-6f4e-4240-a59d-3603b57e5413",
   "metadata": {},
   "outputs": [
    {
     "data": {
      "text/plain": [
       "'how do I run kafka?'"
      ]
     },
     "execution_count": 38,
     "metadata": {},
     "output_type": "execute_result"
    }
   ],
   "source": [
    "query "
   ]
  },
  {
   "cell_type": "code",
   "execution_count": 41,
   "id": "4362a75d-1ee4-4531-acb0-3587b26c32c2",
   "metadata": {},
   "outputs": [],
   "source": [
    "def elastic_search(query):\n",
    "    search_query = {\n",
    "        \"size\": 5,\n",
    "        \"query\": {\n",
    "            \"bool\": {\n",
    "                \"must\": {\n",
    "                    \"multi_match\": {\n",
    "                        \"query\": query,\n",
    "                        \"fields\": [\"question^3\", \"text\", \"section\"],\n",
    "                        \"type\": \"best_fields\"\n",
    "                    }\n",
    "                },\n",
    "                \"filter\": {\n",
    "                    \"term\": {\n",
    "                        \"course\": \"data-engineering-zoomcamp\"\n",
    "                    }\n",
    "                }\n",
    "            }\n",
    "        }\n",
    "    }\n",
    "\n",
    "    response = es_client.search(index=index_name, body=search_query)\n",
    "    \n",
    "    result_docs = []\n",
    "    \n",
    "    for hit in response['hits']['hits']:\n",
    "        result_docs.append(hit['_source'])\n",
    "    \n",
    "    return result_docs"
   ]
  },
  {
   "cell_type": "code",
   "execution_count": 42,
   "id": "6725b036-5905-4039-876a-528df8fda15d",
   "metadata": {},
   "outputs": [],
   "source": [
    "def rag(query):\n",
    "    search_results = elastic_search(query)\n",
    "    prompt = build_prompt(query, search_results)\n",
    "    answer = llm(prompt)\n",
    "    return answer"
   ]
  },
  {
   "cell_type": "code",
   "execution_count": 44,
   "id": "f7256de5-0ccc-4516-a948-4ea34428c5f0",
   "metadata": {},
   "outputs": [
    {
     "name": "stdout",
     "output_type": "stream",
     "text": [
      "Running Apache Kafka involves several steps, including setting up Zookeeper (since Kafka depends on it for its operations) and starting the Kafka server. Here's a step-by-step guide to get you started:\n",
      "\n",
      "### Pre-requisites\n",
      "- Ensure you have Java installed on your machine, preferably version 8 or later.\n",
      "- Download Apache Kafka from the [official website](https://kafka.apache.org/downloads).\n",
      "\n",
      "### Steps to Run Kafka\n",
      "\n",
      "1. **Extract Kafka:**\n",
      "   - Once downloaded, extract the Kafka binary files to a directory on your system.\n",
      "\n",
      "2. **Start Zookeeper:**\n",
      "   - Kafka requires Zookeeper to manage distributed brokers. Kafka binary includes a Zookeeper instance for you to use.\n",
      "   - Open a terminal window, navigate to the Kafka directory, and run the following command:\n",
      "\n",
      "     ```bash\n",
      "     bin/zookeeper-server-start.sh config/zookeeper.properties\n",
      "     ```\n",
      "\n",
      "   - This starts a Zookeeper instance with the default configuration.\n",
      "\n",
      "3. **Start Kafka Broker:**\n",
      "   - Open another terminal window, navigate to the Kafka directory, and run:\n",
      "\n",
      "     ```bash\n",
      "     bin/kafka-server-start.sh config/server.properties\n",
      "     ```\n",
      "\n",
      "   - This starts the Kafka broker with the default configuration.\n",
      "\n",
      "4. **Create a Topic:**\n",
      "   - Open another terminal and run the following command to create a new topic named `test`:\n",
      "\n",
      "     ```bash\n",
      "     bin/kafka-topics.sh --create --topic test --bootstrap-server localhost:9092 --partitions 1 --replication-factor 1\n",
      "     ```\n",
      "\n",
      "5. **List Topics:**\n",
      "   - To see the list of topics, run:\n",
      "\n",
      "     ```bash\n",
      "     bin/kafka-topics.sh --list --bootstrap-server localhost:9092\n",
      "     ```\n",
      "\n",
      "6. **Start a Producer:**\n",
      "   - Run the following command to start a console producer:\n",
      "\n",
      "     ```bash\n",
      "     bin/kafka-console-producer.sh --topic test --bootstrap-server localhost:9092\n",
      "     ```\n",
      "\n",
      "   - You can now type messages into the console, and they will be sent to the Kafka `test` topic.\n",
      "\n",
      "7. **Start a Consumer:**\n",
      "   - Open another terminal window and start a console consumer by running:\n",
      "\n",
      "     ```bash\n",
      "     bin/kafka-console-consumer.sh --topic test --from-beginning --bootstrap-server localhost:9092\n",
      "     ```\n",
      "\n",
      "   - You will see the messages you type in the producer console appear in the consumer console.\n",
      "\n",
      "### Stopping Kafka and Zookeeper\n",
      "\n",
      "- To stop the Kafka broker, go to the terminal where Kafka is running and press `Ctrl+C`.\n",
      "- Similarly, stop Zookeeper by going to the terminal where Zookeeper is running and pressing `Ctrl+C`.\n",
      "\n",
      "### Notes\n",
      "- The above steps are for getting started with Kafka in a local environment. In a production environment, you would typically set up multiple Kafka brokers and Zookeeper instances.\n",
      "- Configuration files (`server.properties`, `zookeeper.properties`) can be edited to customize the setup (e.g., change ports, broker IDs, log directories).\n",
      "\n",
      "This should set up a basic Kafka instance for you to experiment with. Let me know if you have any more questions!\n"
     ]
    }
   ],
   "source": [
    "print(answer)"
   ]
  },
  {
   "cell_type": "code",
   "execution_count": null,
   "id": "5ed87f19-5ddc-499c-97f9-0a96e6a65896",
   "metadata": {},
   "outputs": [],
   "source": []
  }
 ],
 "metadata": {
  "kernelspec": {
   "display_name": "Python 3 (ipykernel)",
   "language": "python",
   "name": "python3"
  },
  "language_info": {
   "codemirror_mode": {
    "name": "ipython",
    "version": 3
   },
   "file_extension": ".py",
   "mimetype": "text/x-python",
   "name": "python",
   "nbconvert_exporter": "python",
   "pygments_lexer": "ipython3",
   "version": "3.12.1"
  }
 },
 "nbformat": 4,
 "nbformat_minor": 5
}
